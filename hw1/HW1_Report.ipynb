{
  "nbformat": 4,
  "nbformat_minor": 0,
  "metadata": {
    "colab": {
      "provenance": [],
      "authorship_tag": "ABX9TyMaxVGr5YNTmVwaL9KnG9z4",
      "include_colab_link": true
    },
    "kernelspec": {
      "name": "python3",
      "display_name": "Python 3"
    },
    "language_info": {
      "name": "python"
    }
  },
  "cells": [
    {
      "cell_type": "markdown",
      "metadata": {
        "id": "view-in-github",
        "colab_type": "text"
      },
      "source": [
        "<a href=\"https://colab.research.google.com/github/JoshARogers/teaching-network-science/blob/main/hw1/HW1_Report.ipynb\" target=\"_parent\"><img src=\"https://colab.research.google.com/assets/colab-badge.svg\" alt=\"Open In Colab\"/></a>"
      ]
    },
    {
      "cell_type": "markdown",
      "source": [
        "[![Open in Colab](https://colab.research.google.com/assets/colab-badge.svg)](https://colab.research.google.com/github/anwala/teaching-network-science/blob/main/spring-2023/week-1/data_340_02_report_template.ipynb)"
      ],
      "metadata": {
        "id": "miZ2BpuQiQOo"
      }
    },
    {
      "cell_type": "markdown",
      "source": [
        "# Homework 1 - Network elements\n",
        "### Joshua Rogers\n",
        "### DATA 340-02, Spring 2023\n",
        "### February 14, 2023"
      ],
      "metadata": {
        "id": "YRGUnj4_iWrk"
      }
    },
    {
      "cell_type": "markdown",
      "source": [
        "##Q1\n",
        "Go through the [tutorial on Network elements](https://github.com/anwala/teaching-network-science/blob/main/spring-2023/week-2/data_340_02_s23_chp_01_network_elements.ipynb).\n",
        "\n",
        "Implement functions for Exercises 1 -- 3"
      ],
      "metadata": {
        "id": "kV8ryrICjn5w"
      }
    },
    {
      "cell_type": "markdown",
      "source": [
        "###Answer"
      ],
      "metadata": {
        "id": "DrSwGFoOkNqm"
      }
    },
    {
      "cell_type": "code",
      "source": [
        "import networkx as nx\n",
        "%matplotlib inline\n",
        "nx.__version__"
      ],
      "metadata": {
        "colab": {
          "base_uri": "https://localhost:8080/",
          "height": 35
        },
        "id": "i6v7GS6viSlQ",
        "outputId": "c8778830-ee27-4210-fe88-2c3aa36f1383"
      },
      "execution_count": 1,
      "outputs": [
        {
          "output_type": "execute_result",
          "data": {
            "text/plain": [
              "'3.0'"
            ],
            "application/vnd.google.colaboratory.intrinsic+json": {
              "type": "string"
            }
          },
          "metadata": {},
          "execution_count": 1
        }
      ]
    },
    {
      "cell_type": "markdown",
      "source": [
        "###Exercise 1\n",
        "\n",
        "Often in the context of trees, a node with degree 1 is called a leaf. Write a function named get_leaves that takes a graph as an argument, loops through the nodes, and returns a list of nodes with degree 1."
      ],
      "metadata": {
        "id": "_bUfFSp7lLhj"
      }
    },
    {
      "cell_type": "code",
      "source": [
        "#sample graph\n",
        "# a \"plain\" graph is undirected\n",
        "G = nx.Graph()\n",
        "\n",
        "# give each a node a 'name', which is a letter in this case.\n",
        "G.add_node('a')\n",
        "\n",
        "# the add_nodes_from method allows adding nodes from a sequence, in this case a list\n",
        "nodes_to_add = ['b', 'c', 'd']\n",
        "G.add_nodes_from(nodes_to_add)\n",
        "\n",
        "# add edge from 'a' to 'b'\n",
        "# since this graph is undirected, the order doesn't matter here\n",
        "G.add_edge('a', 'b')\n",
        "\n",
        "# just like add_nodes_from, we can add edges from a sequence\n",
        "# edges should be specified as 2-tuples\n",
        "edges_to_add = [('a', 'c'), ('b', 'c'), ('c', 'd')]\n",
        "G.add_edges_from(edges_to_add)\n",
        "\n",
        "# draw the graph\n",
        "nx.draw(G, with_labels=True)\n",
        "\n",
        "G.degree()"
      ],
      "metadata": {
        "colab": {
          "base_uri": "https://localhost:8080/",
          "height": 337
        },
        "id": "Ke3-zDCo4JOq",
        "outputId": "1a8e4725-d935-4e8c-9f39-8f62443509cd"
      },
      "execution_count": 2,
      "outputs": [
        {
          "output_type": "execute_result",
          "data": {
            "text/plain": [
              "DegreeView({'a': 2, 'b': 2, 'c': 3, 'd': 1})"
            ]
          },
          "metadata": {},
          "execution_count": 2
        },
        {
          "output_type": "display_data",
          "data": {
            "text/plain": [
              "<Figure size 432x288 with 1 Axes>"
            ],
            "image/png": "[encoded data removed]"
          },
          "metadata": {}
        }
      ]
    },
    {
      "cell_type": "code",
      "source": [
        "def get_leaves(G):\n",
        "  degree = G.degree()\n",
        "  deg = dict(degree)\n",
        "  leaves_dict = {}\n",
        "  for k, v in deg.items():\n",
        "    if v == 1: \n",
        "      leaves_dict[k] = v\n",
        "  leaves = list(leaves_dict.keys())\n",
        "  return(leaves)"
      ],
      "metadata": {
        "id": "hGLgYc89kYkD"
      },
      "execution_count": 3,
      "outputs": []
    },
    {
      "cell_type": "code",
      "source": [
        "get_leaves(G)"
      ],
      "metadata": {
        "colab": {
          "base_uri": "https://localhost:8080/"
        },
        "id": "O9FXAe6U8vYY",
        "outputId": "a179dbe2-ee92-4a82-aab0-ecb02aba7b35"
      },
      "execution_count": 4,
      "outputs": [
        {
          "output_type": "execute_result",
          "data": {
            "text/plain": [
              "['d']"
            ]
          },
          "metadata": {},
          "execution_count": 4
        }
      ]
    },
    {
      "cell_type": "markdown",
      "source": [
        "###Exercise 2\n",
        "\n",
        "Write a function max_degree that takes a graph as its argument, and returns a 2-tuple with the name and degree of the node with highest degree."
      ],
      "metadata": {
        "id": "A8yjXyYmmQRu"
      }
    },
    {
      "cell_type": "code",
      "source": [
        "def max_degree(G):\n",
        "  degree = G.degree()\n",
        "  deg = dict(degree)\n",
        "  max_dict = {}\n",
        "  maxdeg = max(deg.values())\n",
        "  for k, v in deg.items():\n",
        "    if v == maxdeg: \n",
        "      max_dict[k] = v\n",
        "  max_tuple = list(zip(max_dict.keys(), max_dict.values()))\n",
        "  return(max_tuple)"
      ],
      "metadata": {
        "id": "ctEGZP8HmeJ6"
      },
      "execution_count": 19,
      "outputs": []
    },
    {
      "cell_type": "code",
      "source": [
        "max_degree(G)"
      ],
      "metadata": {
        "colab": {
          "base_uri": "https://localhost:8080/"
        },
        "id": "3FRjP4t6_Jje",
        "outputId": "c03112ef-08a5-422d-e911-31700f1fd05c"
      },
      "execution_count": 20,
      "outputs": [
        {
          "output_type": "execute_result",
          "data": {
            "text/plain": [
              "[('c', 3)]"
            ]
          },
          "metadata": {},
          "execution_count": 20
        }
      ]
    },
    {
      "cell_type": "markdown",
      "source": [
        "###Exercise 3\n",
        "\n",
        "Write a function mutual_friends that takes a graph and two nodes as arguments, and returns a list (or set) of nodes that are linked to both given nodes"
      ],
      "metadata": {
        "id": "spSV5aFomYuc"
      }
    },
    {
      "cell_type": "code",
      "source": [
        "def mutual_friends(G, node_1, node_2):\n",
        "  mutual = []\n",
        "  mutual_friends = []\n",
        "  a = list(G.neighbors(node_1))\n",
        "  b = list(G.neighbors(node_2))\n",
        "  for i in a:\n",
        "    mutual.append(i)\n",
        "  for i in b: \n",
        "    mutual.append(i)\n",
        "  for i in mutual:\n",
        "    if mutual.count(i) > 1:\n",
        "      mutual_friends.append(i)\n",
        "  return(list(set(mutual_friends)))"
      ],
      "metadata": {
        "id": "Pxj_ssiEmknu"
      },
      "execution_count": 21,
      "outputs": []
    },
    {
      "cell_type": "code",
      "source": [
        "print(mutual_friends(G, 'a', 'b'))\n",
        "print(mutual_friends(G, 'a', 'c'))\n",
        "print(mutual_friends(G, 'a', 'd'))\n"
      ],
      "metadata": {
        "colab": {
          "base_uri": "https://localhost:8080/"
        },
        "id": "0UI8yW4HR5cI",
        "outputId": "0e298531-5185-4179-9b13-1e07ab1ac484"
      },
      "execution_count": 22,
      "outputs": [
        {
          "output_type": "stream",
          "name": "stdout",
          "text": [
            "['c']\n",
            "['b']\n",
            "['c']\n"
          ]
        }
      ]
    },
    {
      "cell_type": "markdown",
      "source": [
        "### Discussion\n",
        "\n",
        "For each function, I utilized a sample graph from the excersises. For get_leaves, I first created deg, which made G.degree into a dict (when I tried to run the function while only using G.degree, I kept receiving errors). From there, I ran a function that stated for the keys and values in the dictionary, if any value was equivalent to 1, then to place that values key in a new dictionary. Lastly, I changed the new dictionary into a list (note, I needed a refresher on how to iterate through a dictionary in python, so I used a source which is listed in references). \n",
        "\n",
        "For max_degree, I followed the first step as above, which was to convert G.degree into a dictionary, and to create an empty dictionary. Then, I created a value which pulled the max value from the dictionary. From there, I iterated through the items in the dictionary and pulled items whose values matched the max degree. Lastly, I converted the new dictionary into a tuple. (Note, I had a lot of trouble with this so I utilized a source that showed me how to use zip to obtain this, listed in references)\n",
        "\n",
        "Lastly, for mutual friends, I started by creating two empty list. then, I created two additional lists, one with the neighbors of node 1, and one with the neighbors of node two. Next, I appended all neighbors of nodes 1 & 2 into the first empty list. Then, I ran a loop that put neighbors that appeared more then once in the newly created list into the second empty list. Lastly, to make sure I only returned unique values, I set the list (note, I needed a review on how to use set, so I used a source, which is listed in references). \n"
      ],
      "metadata": {
        "id": "gusk-dLQvM93"
      }
    },
    {
      "cell_type": "markdown",
      "source": [
        "##Q2\n",
        "Consider this adjacency matrix.\n",
        "\n",
        "![](https://raw.githubusercontent.com/anwala/teaching-network-science/main/spring-2023/homework/hw1/adj_mat.png)\n",
        "\n",
        "An entry in the ith row and jth column indicates the weight of the link from node i to node j. For instance, the entry in the second row and third column is 2, meaning the weight of the link from node B to node C is 2. What kind of network does this matrix represent?\n",
        "\n",
        "a. Undirected, unweighted\n",
        "\n",
        "b. Undirected, weighted\n",
        "\n",
        "c. Directed, unweighted\n",
        "\n",
        "d. Directed, weighted\n"
      ],
      "metadata": {
        "id": "SnqDrbXknOv-"
      }
    },
    {
      "cell_type": "markdown",
      "source": [
        "###Answer\n",
        "\n",
        "d. Directed, weighted"
      ],
      "metadata": {
        "id": "tXtqrEpfoMkj"
      }
    },
    {
      "cell_type": "markdown",
      "source": [
        "###Discussion\n",
        "\n",
        "This graph is directed and weighted. We can tell that it is directed because the matrixes are not symmetrical. For example, in the bottom row (F, A), there is an indicated link whereas in the top row (A,F), there is no indication of a link. This would imply that in this case, F is the source node and A is the target node, meaning that this link has direction. This network is weighted because the weights are not universally the same (e.g. all links have w as 1). For example, in the bottom row, first column (F,A,2), the link has a weight of 2. Converesly, the bottom row, third column (F,C,3) has a weight of 3. This indicates that the links are weighted. "
      ],
      "metadata": {
        "id": "idta3Y5LoXZD"
      }
    },
    {
      "cell_type": "markdown",
      "source": [
        "##Q3\n",
        "\n",
        "Consider the network defined by the adjacency matrix in Q2. How many nodes are in this network? How many links? Are there any self-loops?\n",
        "\n",
        "Discuss how you arrived at your answer."
      ],
      "metadata": {
        "id": "HLqoiLLiqYzT"
      }
    },
    {
      "cell_type": "markdown",
      "source": [
        "###Answer\n",
        "\n",
        "- 6 Nodes\n",
        "- 9 Links\n",
        "- 0 Self-Loops"
      ],
      "metadata": {
        "id": "EH3qRTY1qgTM"
      }
    },
    {
      "cell_type": "markdown",
      "source": [
        "###Discussion\n",
        "\n",
        "There are six rows/columns in the matrix (A,B,C,D,E,F). This would indicate that the network contains six nodes. \n",
        "\n",
        "In the matrix, there are 10 indexes that are numbered 1,2, or 3. However, (E,F,1) and (F,E,1) are the same link (meaning that this link is undirected). Therefore, there are nine links in the network. \n",
        "\n",
        "The Diagonal elements in the matrix (row 1 column 1, row 2, column 2, etc.) are all zero. As a self loop is a link that has the same source and target node (meaning that e.g. the A,A weight would not equal zero), this means that there are no self loops in this network. "
      ],
      "metadata": {
        "id": "yl3S1qZSsVFK"
      }
    },
    {
      "cell_type": "markdown",
      "source": [
        "## Q4\n",
        "\n",
        "Webflix keeps data on customer preferences using a bipartite network connecting users to movies they have watched and/or rated. Webflix's movie library contains approximately 1,000 movies. In the fourth quarter of 2022, Webflix reported having about 5,000 users. Also, on average, a user has watched and/or rated 750 movies. Approximately how many links are in this network? Would you consider this network sparse or dense? Explain."
      ],
      "metadata": {
        "id": "Ckz8MzF3uhQX"
      }
    },
    {
      "cell_type": "markdown",
      "source": [
        "N = 5000 users\n",
        "\n",
        "N1 = 1000 movies \n",
        "\n",
        "K = 750\n",
        "\n",
        "L (Bipartite Network)= (k*N)\n",
        "\n",
        "Max Links (bipartite network)= (N1*N2)\n",
        "\n",
        "Density = L/LMax\n",
        "\n",
        "\n",
        "\n",
        "\n"
      ],
      "metadata": {
        "id": "onOb7IQvvNKu"
      }
    },
    {
      "cell_type": "markdown",
      "source": [
        "### Answer"
      ],
      "metadata": {
        "id": "TSWravAwt2h_"
      }
    },
    {
      "cell_type": "code",
      "source": [
        "n = 5000\n",
        "n1 = 1000\n",
        "k = 750\n",
        "Lmax = int(n*n1)\n",
        "print('LMax = ',Lmax)\n",
        "\n",
        "L = int(k*n)\n",
        "print('L = ',L)\n",
        "\n",
        "#Density\n",
        "print('Density = ', L/Lmax)\n",
        "print('This network is sparse')\n"
      ],
      "metadata": {
        "colab": {
          "base_uri": "https://localhost:8080/"
        },
        "id": "AbS10AyWzsW5",
        "outputId": "95689ec6-a642-4800-9077-bf9d2282782d"
      },
      "execution_count": 18,
      "outputs": [
        {
          "output_type": "stream",
          "name": "stdout",
          "text": [
            "LMax =  5000000\n",
            "L =  3750000\n",
            "Density =  0.75\n",
            "This network is sparse\n"
          ]
        }
      ]
    },
    {
      "cell_type": "markdown",
      "source": [
        "### Discussion\n",
        "\n",
        "In a bipartite network, nodes from the first group (e.g. users) can only have links connected to nodes from the second group (e.g. movies) to get the (approx) number of links, you would multiply the average degree by the number of users. In order to find the maximum amount of links, you would multiply the total number of nodes from the first group (users) by the total number of nodes from the second group of nodes (movies). To find the density, you would divide L by LMax. This network would be considered sparse, as d is less then 1. "
      ],
      "metadata": {
        "id": "iiLY_CnHvNQ3"
      }
    },
    {
      "cell_type": "markdown",
      "source": [
        "##References\n",
        "\n",
        "Self-loops, https://networkx.org/documentation/stable/auto_examples/drawing/plot_selfloops.html\n",
        "\n",
        "How to Iterate Through a Dictionary in Python, https://realpython.com/iterate-through-dictionary-python/\n",
        "\n",
        "Convert dictionary to list of tuples in Python, https://www.tutorialspoint.com/convert-dictionary-to-list-of-tuples-in-python#:~:text=With%20zip,become%20tuples%20of%20the%20list.\n",
        "\n",
        "Link Prediction in Bipartite Nested Networks, https://www.ncbi.nlm.nih.gov/pmc/articles/PMC7512339/#:~:text=Since%20the%20maximal%20possible%20number,present%20in%20the%20input%20data.\n",
        "\n",
        "Python | set() method, https://www.geeksforgeeks.org/python-set-method/\n"
      ],
      "metadata": {
        "id": "JrW3r-HrtXQ0"
      }
    }
  ]
}